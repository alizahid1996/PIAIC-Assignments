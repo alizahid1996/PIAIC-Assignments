{
 "cells": [
  {
   "cell_type": "markdown",
   "metadata": {},
   "source": [
    "# Assignment: Code for formatting String"
   ]
  },
  {
   "cell_type": "markdown",
   "metadata": {},
   "source": [
    "# Using Concatenation"
   ]
  },
  {
   "cell_type": "code",
   "execution_count": 42,
   "metadata": {},
   "outputs": [],
   "source": [
    "name = \"Ali Zahid\"\n",
    "age = 23\n",
    "Class = \"BSCS\"\n",
    "subject=\"Artificial Intelligence\"\n",
    "university = \"University of Sargodha\""
   ]
  },
  {
   "cell_type": "code",
   "execution_count": 43,
   "metadata": {},
   "outputs": [
    {
     "name": "stdout",
     "output_type": "stream",
     "text": [
      "Hello Ali Zahid\n",
      "Your application is accepted for Artificial Intelligence\n"
     ]
    }
   ],
   "source": [
    "print(\"Hello \" +name +\"\\n\" +\"Your application is accepted for \" +subject)"
   ]
  },
  {
   "cell_type": "markdown",
   "metadata": {},
   "source": [
    "# Using Format Method"
   ]
  },
  {
   "cell_type": "code",
   "execution_count": 45,
   "metadata": {},
   "outputs": [
    {
     "name": "stdout",
     "output_type": "stream",
     "text": [
      "Hello Ali Zahid\n",
      "Your application is accepted for Artificial Intelligence\n"
     ]
    }
   ],
   "source": [
    "print(\"Hello {}\\nYour application is accepted for {}\".format(name,subject))"
   ]
  },
  {
   "cell_type": "markdown",
   "metadata": {},
   "source": [
    "# Using Multiline Formatting"
   ]
  },
  {
   "cell_type": "code",
   "execution_count": 52,
   "metadata": {},
   "outputs": [
    {
     "name": "stdout",
     "output_type": "stream",
     "text": [
      "Hello Ali Zahid\n",
      "Your application is accepted for Artificial Intelligence\n"
     ]
    }
   ],
   "source": [
    "print(\"\"\"Hello {pname}\n",
    "Your application is accepted for {psubject}\"\"\".format(pname=name, psubject=subject))"
   ]
  }
 ],
 "metadata": {
  "kernelspec": {
   "display_name": "Python 3",
   "language": "python",
   "name": "python3"
  },
  "language_info": {
   "codemirror_mode": {
    "name": "ipython",
    "version": 3
   },
   "file_extension": ".py",
   "mimetype": "text/x-python",
   "name": "python",
   "nbconvert_exporter": "python",
   "pygments_lexer": "ipython3",
   "version": "3.7.4"
  }
 },
 "nbformat": 4,
 "nbformat_minor": 2
}
